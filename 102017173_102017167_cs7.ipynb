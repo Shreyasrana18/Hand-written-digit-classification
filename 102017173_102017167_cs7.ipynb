{
 "cells": [
  {
   "cell_type": "markdown",
   "metadata": {},
   "source": [
    "Importing modules"
   ]
  },
  {
   "cell_type": "code",
   "execution_count": 2,
   "metadata": {},
   "outputs": [],
   "source": [
    "import pandas as pd\n",
    "import numpy as np\n",
    "from tqdm.notebook import tqdm\n",
    "from keras.preprocessing.image import img_to_array, load_img\n",
    "import tensorflow as tf\n",
    "import matplotlib.pyplot as plt\n",
    "%matplotlib inline\n",
    "import warnings\n",
    "\n",
    "warnings.filterwarnings(\"ignore\")"
   ]
  },
  {
   "cell_type": "code",
   "execution_count": 3,
   "metadata": {},
   "outputs": [
    {
     "name": "stdout",
     "output_type": "stream",
     "text": [
      "^C\n"
     ]
    }
   ],
   "source": [
    "!unzip Train_UQcUa52.zip\n"
   ]
  },
  {
   "cell_type": "code",
   "execution_count": 4,
   "metadata": {},
   "outputs": [
    {
     "data": {
      "text/html": [
       "<div>\n",
       "<style scoped>\n",
       "    .dataframe tbody tr th:only-of-type {\n",
       "        vertical-align: middle;\n",
       "    }\n",
       "\n",
       "    .dataframe tbody tr th {\n",
       "        vertical-align: top;\n",
       "    }\n",
       "\n",
       "    .dataframe thead th {\n",
       "        text-align: right;\n",
       "    }\n",
       "</style>\n",
       "<table border=\"1\" class=\"dataframe\">\n",
       "  <thead>\n",
       "    <tr style=\"text-align: right;\">\n",
       "      <th></th>\n",
       "      <th>filename</th>\n",
       "      <th>label</th>\n",
       "    </tr>\n",
       "  </thead>\n",
       "  <tbody>\n",
       "    <tr>\n",
       "      <th>0</th>\n",
       "      <td>0.png</td>\n",
       "      <td>4</td>\n",
       "    </tr>\n",
       "    <tr>\n",
       "      <th>1</th>\n",
       "      <td>1.png</td>\n",
       "      <td>9</td>\n",
       "    </tr>\n",
       "    <tr>\n",
       "      <th>2</th>\n",
       "      <td>2.png</td>\n",
       "      <td>1</td>\n",
       "    </tr>\n",
       "    <tr>\n",
       "      <th>3</th>\n",
       "      <td>3.png</td>\n",
       "      <td>7</td>\n",
       "    </tr>\n",
       "    <tr>\n",
       "      <th>4</th>\n",
       "      <td>4.png</td>\n",
       "      <td>3</td>\n",
       "    </tr>\n",
       "  </tbody>\n",
       "</table>\n",
       "</div>"
      ],
      "text/plain": [
       "  filename  label\n",
       "0    0.png      4\n",
       "1    1.png      9\n",
       "2    2.png      1\n",
       "3    3.png      7\n",
       "4    4.png      3"
      ]
     },
     "execution_count": 4,
     "metadata": {},
     "output_type": "execute_result"
    }
   ],
   "source": [
    "df =pd.read_csv('train.csv')\n",
    "df.head()\n"
   ]
  },
  {
   "cell_type": "code",
   "execution_count": 5,
   "metadata": {},
   "outputs": [],
   "source": [
    "image_path= 'Images/train/'"
   ]
  },
  {
   "cell_type": "code",
   "execution_count": 6,
   "metadata": {},
   "outputs": [
    {
     "data": {
      "application/vnd.jupyter.widget-view+json": {
       "model_id": "5695631c2d2f4df5a7c4d387938f3c6f",
       "version_major": 2,
       "version_minor": 0
      },
      "text/plain": [
       "  0%|          | 0/49000 [00:00<?, ?it/s]"
      ]
     },
     "metadata": {},
     "output_type": "display_data"
    }
   ],
   "source": [
    "X = np.array([img_to_array(load_img(image_path+df['filename'][i], target_size=(\n",
    "    28, 28, 1), color_mode='grayscale')) for i in tqdm(range(df.shape[0]))]).astype('float32')\n"
   ]
  },
  {
   "cell_type": "code",
   "execution_count": 21,
   "metadata": {},
   "outputs": [],
   "source": [
    "y=df['label']"
   ]
  },
  {
   "cell_type": "code",
   "execution_count": 22,
   "metadata": {},
   "outputs": [
    {
     "name": "stdout",
     "output_type": "stream",
     "text": [
      "(49000, 28, 28, 1) (49000,)\n"
     ]
    }
   ],
   "source": [
    "print(X.shape,y.shape)"
   ]
  },
  {
   "cell_type": "code",
   "execution_count": 23,
   "metadata": {},
   "outputs": [
    {
     "name": "stdout",
     "output_type": "stream",
     "text": [
      "4\n"
     ]
    },
    {
     "data": {
      "text/plain": [
       "<matplotlib.image.AxesImage at 0x1a2d63b1400>"
      ]
     },
     "execution_count": 23,
     "metadata": {},
     "output_type": "execute_result"
    },
    {
     "data": {
      "image/png": "[encoded data removed]",
      "text/plain": [
       "<Figure size 432x288 with 1 Axes>"
      ]
     },
     "metadata": {
      "needs_background": "light"
     },
     "output_type": "display_data"
    }
   ],
   "source": [
    "image_index = 0\n",
    "print(y[image_index])\n",
    "plt.imshow(X[image_index].reshape(28, 28),cmap='Greys')"
   ]
  },
  {
   "cell_type": "code",
   "execution_count": 24,
   "metadata": {},
   "outputs": [
    {
     "name": "stdout",
     "output_type": "stream",
     "text": [
      "7\n"
     ]
    },
    {
     "data": {
      "text/plain": [
       "<matplotlib.image.AxesImage at 0x1a2d6467a30>"
      ]
     },
     "execution_count": 24,
     "metadata": {},
     "output_type": "execute_result"
    },
    {
     "data": {
      "image/png": "[encoded data removed]",
      "text/plain": [
       "<Figure size 432x288 with 1 Axes>"
      ]
     },
     "metadata": {
      "needs_background": "light"
     },
     "output_type": "display_data"
    }
   ],
   "source": [
    "image_index = 100\n",
    "print(y[image_index])\n",
    "plt.imshow(X[image_index].reshape(28, 28),cmap='Greys')"
   ]
  },
  {
   "cell_type": "markdown",
   "metadata": {},
   "source": [
    "Train-Test split"
   ]
  },
  {
   "cell_type": "code",
   "execution_count": 25,
   "metadata": {},
   "outputs": [],
   "source": [
    "from sklearn.model_selection import train_test_split\n",
    "x_train, x_test, y_train, y_test = train_test_split(X, y, test_size=0.25, random_state=42,stratify=np.array(y))"
   ]
  },
  {
   "cell_type": "markdown",
   "metadata": {},
   "source": [
    "Normalization"
   ]
  },
  {
   "cell_type": "code",
   "execution_count": 26,
   "metadata": {},
   "outputs": [],
   "source": [
    "x_train /=255\n",
    "x_test /=255\n",
    "\n",
    "input_shape = (28, 28, 1)\n",
    "output_classes = 10"
   ]
  },
  {
   "cell_type": "markdown",
   "metadata": {},
   "source": [
    "Model Creation"
   ]
  },
  {
   "cell_type": "code",
   "execution_count": 93,
   "metadata": {},
   "outputs": [],
   "source": [
    "from keras.models import Sequential\n",
    "from keras.layers import Dense, Dropout, Flatten, MaxPooling2D, Conv2D\n",
    "\n",
    "model = Sequential()\n",
    "model.add(Conv2D(28, kernel_size=(3, 3), input_shape=input_shape))\n",
    "model.add(MaxPooling2D(pool_size=(2, 2)))\n",
    "model.add(Flatten())\n",
    "model.add(Dense(128, activation=tf.nn.relu))\n",
    "model.add(Dropout(0.3))\n",
    "model.add(Dense(64, activation=tf.nn.relu))\n",
    "model.add(Dense(output_classes, activation=tf.nn.softmax))\n",
    "# model.add(Dropout(0.3))\n",
    "\n",
    "model.compile(optimizer='adam',\n",
    "              loss='sparse_categorical_crossentropy', metrics=['accuracy'])\n"
   ]
  },
  {
   "cell_type": "markdown",
   "metadata": {},
   "source": [
    "Training the model"
   ]
  },
  {
   "cell_type": "code",
   "execution_count": 95,
   "metadata": {},
   "outputs": [
    {
     "name": "stdout",
     "output_type": "stream",
     "text": [
      "Epoch 1/25\n",
      "575/575 [==============================] - 7s 11ms/step - loss: 0.3252 - accuracy: 0.9020 - val_loss: 0.1248 - val_accuracy: 0.9619\n",
      "Epoch 2/25\n",
      "575/575 [==============================] - 6s 10ms/step - loss: 0.1337 - accuracy: 0.9592 - val_loss: 0.0906 - val_accuracy: 0.9711\n",
      "Epoch 3/25\n",
      "575/575 [==============================] - 6s 10ms/step - loss: 0.0922 - accuracy: 0.9710 - val_loss: 0.0746 - val_accuracy: 0.9758\n",
      "Epoch 4/25\n",
      "575/575 [==============================] - 6s 11ms/step - loss: 0.0699 - accuracy: 0.9782 - val_loss: 0.0677 - val_accuracy: 0.9787\n",
      "Epoch 5/25\n",
      "575/575 [==============================] - 7s 12ms/step - loss: 0.0598 - accuracy: 0.9807 - val_loss: 0.0600 - val_accuracy: 0.9819\n",
      "Epoch 6/25\n",
      "575/575 [==============================] - 7s 12ms/step - loss: 0.0508 - accuracy: 0.9836 - val_loss: 0.0646 - val_accuracy: 0.9816\n",
      "Epoch 7/25\n",
      "575/575 [==============================] - 7s 13ms/step - loss: 0.0429 - accuracy: 0.9859 - val_loss: 0.0657 - val_accuracy: 0.9802\n",
      "Epoch 8/25\n",
      "575/575 [==============================] - 7s 13ms/step - loss: 0.0390 - accuracy: 0.9871 - val_loss: 0.0712 - val_accuracy: 0.9816\n",
      "Epoch 9/25\n",
      "575/575 [==============================] - 7s 12ms/step - loss: 0.0346 - accuracy: 0.9884 - val_loss: 0.0662 - val_accuracy: 0.9824\n",
      "Epoch 10/25\n",
      "575/575 [==============================] - 7s 13ms/step - loss: 0.0306 - accuracy: 0.9901 - val_loss: 0.0725 - val_accuracy: 0.9827\n",
      "Epoch 11/25\n",
      "575/575 [==============================] - 7s 13ms/step - loss: 0.0278 - accuracy: 0.9907 - val_loss: 0.0753 - val_accuracy: 0.9822\n",
      "Epoch 12/25\n",
      "575/575 [==============================] - 7s 12ms/step - loss: 0.0266 - accuracy: 0.9913 - val_loss: 0.0716 - val_accuracy: 0.9829\n",
      "Epoch 13/25\n",
      "575/575 [==============================] - 7s 12ms/step - loss: 0.0256 - accuracy: 0.9916 - val_loss: 0.0800 - val_accuracy: 0.9819\n",
      "Epoch 14/25\n",
      "575/575 [==============================] - 7s 12ms/step - loss: 0.0265 - accuracy: 0.9908 - val_loss: 0.0724 - val_accuracy: 0.9835\n",
      "Epoch 15/25\n",
      "575/575 [==============================] - 7s 12ms/step - loss: 0.0234 - accuracy: 0.9919 - val_loss: 0.0778 - val_accuracy: 0.9834\n",
      "Epoch 16/25\n",
      "575/575 [==============================] - 7s 13ms/step - loss: 0.0215 - accuracy: 0.9927 - val_loss: 0.0811 - val_accuracy: 0.9831\n",
      "Epoch 17/25\n",
      "575/575 [==============================] - 7s 12ms/step - loss: 0.0198 - accuracy: 0.9935 - val_loss: 0.0704 - val_accuracy: 0.9851\n",
      "Epoch 18/25\n",
      "575/575 [==============================] - 7s 12ms/step - loss: 0.0188 - accuracy: 0.9937 - val_loss: 0.0892 - val_accuracy: 0.9813\n",
      "Epoch 19/25\n",
      "575/575 [==============================] - 7s 12ms/step - loss: 0.0173 - accuracy: 0.9941 - val_loss: 0.0888 - val_accuracy: 0.9815\n",
      "Epoch 20/25\n",
      "575/575 [==============================] - 7s 13ms/step - loss: 0.0174 - accuracy: 0.9942 - val_loss: 0.0831 - val_accuracy: 0.9840\n",
      "Epoch 21/25\n",
      "575/575 [==============================] - 7s 12ms/step - loss: 0.0191 - accuracy: 0.9934 - val_loss: 0.0799 - val_accuracy: 0.9836\n",
      "Epoch 22/25\n",
      "575/575 [==============================] - 7s 12ms/step - loss: 0.0181 - accuracy: 0.9941 - val_loss: 0.0820 - val_accuracy: 0.9828\n",
      "Epoch 23/25\n",
      "575/575 [==============================] - 7s 12ms/step - loss: 0.0165 - accuracy: 0.9946 - val_loss: 0.0840 - val_accuracy: 0.9840\n",
      "Epoch 24/25\n",
      "575/575 [==============================] - 7s 12ms/step - loss: 0.0189 - accuracy: 0.9937 - val_loss: 0.0803 - val_accuracy: 0.9844\n",
      "Epoch 25/25\n",
      "575/575 [==============================] - 7s 12ms/step - loss: 0.0166 - accuracy: 0.9945 - val_loss: 0.0845 - val_accuracy: 0.9847\n"
     ]
    },
    {
     "data": {
      "text/plain": [
       "<keras.callbacks.History at 0x1a2c2788d30>"
      ]
     },
     "execution_count": 95,
     "metadata": {},
     "output_type": "execute_result"
    }
   ],
   "source": [
    "\n",
    "model.fit(x=x_train,y=y_train, epochs=25,batch_size=64,validation_data=(x_test, y_test))"
   ]
  },
  {
   "cell_type": "code",
   "execution_count": 96,
   "metadata": {},
   "outputs": [
    {
     "data": {
      "image/png": "[encoded data removed]",
      "text/plain": [
       "<Figure size 432x288 with 1 Axes>"
      ]
     },
     "metadata": {
      "needs_background": "light"
     },
     "output_type": "display_data"
    }
   ],
   "source": [
    "import matplotlib.pyplot as plt\n",
    "\n",
    "accuracy=model.history.history['accuracy']\n",
    "loss=model.history.history['loss']\n",
    "\n",
    "epochs=range(len(accuracy))\n",
    "\n",
    "plt.plot(epochs,accuracy,'r')\n",
    "plt.plot(epochs,loss,'b',label='Training loss')\n",
    "plt.show()"
   ]
  },
  {
   "cell_type": "markdown",
   "metadata": {},
   "source": [
    "Testing\n"
   ]
  },
  {
   "cell_type": "code",
   "execution_count": 97,
   "metadata": {},
   "outputs": [
    {
     "name": "stdout",
     "output_type": "stream",
     "text": [
      "Predicted output: 9\n"
     ]
    },
    {
     "data": {
      "image/png": "[encoded data removed]",
      "text/plain": [
       "<Figure size 432x288 with 1 Axes>"
      ]
     },
     "metadata": {
      "needs_background": "light"
     },
     "output_type": "display_data"
    }
   ],
   "source": [
    "image_index=50\n",
    "# print(\"Original output:\",y_test[image_index])\n",
    "plt.imshow(x_test[image_index].reshape(28, 28),cmap='Greys')\n",
    "pred = model.predict(x_test[image_index].reshape(1, 28, 28, 1))\n",
    "print(\"Predicted output:\",pred.argmax())"
   ]
  },
  {
   "cell_type": "code",
   "execution_count": 98,
   "metadata": {},
   "outputs": [
    {
     "name": "stdout",
     "output_type": "stream",
     "text": [
      "383/383 [==============================] - 1s 2ms/step - loss: 0.0845 - accuracy: 0.9847\n",
      "Test loss: 0.0845242515206337\n",
      "Test accuracy: 0.9846530556678772\n"
     ]
    }
   ],
   "source": [
    "score=model.evaluate(x_test,y_test,verbose=1)\n",
    "print('Test loss:',score[0])\n",
    "print('Test accuracy:',score[1])"
   ]
  },
  {
   "cell_type": "code",
   "execution_count": 92,
   "metadata": {},
   "outputs": [
    {
     "name": "stdout",
     "output_type": "stream",
     "text": [
      "Predicted output: 1\n"
     ]
    },
    {
     "data": {
      "image/png": "[encoded data removed]",
      "text/plain": [
       "<Figure size 432x288 with 1 Axes>"
      ]
     },
     "metadata": {
      "needs_background": "light"
     },
     "output_type": "display_data"
    }
   ],
   "source": [
    "image_index=0\n",
    "# print(\"Original output:\",y_test[image_index])\n",
    "plt.imshow(x_test[image_index].reshape(28, 28),cmap='Greys')\n",
    "pred = model.predict(x_test[image_index].reshape(1, 28, 28, 1))\n",
    "print(\"Predicted output:\",pred.argmax())"
   ]
  },
  {
   "cell_type": "code",
   "execution_count": null,
   "metadata": {},
   "outputs": [
    {
     "name": "stdout",
     "output_type": "stream",
     "text": [
      "Saved model to disk\n"
     ]
    }
   ],
   "source": [
    "model.save('model.h5')\n",
    "print(\"Saved model to disk\")"
   ]
  }
 ],
 "metadata": {
  "kernelspec": {
   "display_name": "Python 3.9.10 64-bit",
   "language": "python",
   "name": "python3"
  },
  "language_info": {
   "codemirror_mode": {
    "name": "ipython",
    "version": 3
   },
   "file_extension": ".py",
   "mimetype": "text/x-python",
   "name": "python",
   "nbconvert_exporter": "python",
   "pygments_lexer": "ipython3",
   "version": "3.9.10"
  },
  "orig_nbformat": 4,
  "vscode": {
   "interpreter": {
    "hash": "d31823fd7a6425479d17c5bd42ab21ee83938655237d544c2d29c4f54f43aa0e"
   }
  }
 },
 "nbformat": 4,
 "nbformat_minor": 2
}
